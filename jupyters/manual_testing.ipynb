{
 "cells": [
  {
   "cell_type": "markdown",
   "id": "4e0a4a04",
   "metadata": {},
   "source": [
    "# MANUAL TESTING"
   ]
  },
  {
   "cell_type": "code",
   "execution_count": 6,
   "id": "4bda3ce5",
   "metadata": {},
   "outputs": [],
   "source": [
    "import os \n",
    "\n",
    "os.chdir('../')"
   ]
  },
  {
   "cell_type": "markdown",
   "id": "cf7f3cdc",
   "metadata": {},
   "source": [
    "# Load Sandbox"
   ]
  },
  {
   "cell_type": "code",
   "execution_count": 7,
   "id": "e06d6e44",
   "metadata": {},
   "outputs": [],
   "source": [
    "from app.core.sandbox import Sandbox\n",
    "from pathlib import Path\n",
    "\n",
    "box = Sandbox(Path('TEMP_TEST_DIR'), 'Opos-test.xlsx')\n",
    "\n"
   ]
  },
  {
   "cell_type": "code",
   "execution_count": 8,
   "id": "b13e201e",
   "metadata": {},
   "outputs": [],
   "source": [
    "SHEET_STATE = box.get_sheet_state()"
   ]
  },
  {
   "cell_type": "code",
   "execution_count": 9,
   "id": "23d67dd9",
   "metadata": {},
   "outputs": [
    {
     "data": {
      "text/plain": [
       "'Sheet \"Sheet1\" has 151 rows (Including the header row) and 22 columns (A(1): \"Zuordnung\" (<class \\'str\\'>), B(2): \"Buchungsdatum\" (<class \\'datetime.datetime\\'>), C(3): \"Belegart\" (<class \\'str\\'>), D(4): \"Belegnummer\" (<class \\'str\\'>), E(5): \"Belegdatum\" (<class \\'datetime.datetime\\'>), F(6): \"Geschäftsbereich\" (<class \\'NoneType\\'>), G(7): \"Position\" (<class \\'str\\'>), H(8): \"Buchungsschlüssel\" (<class \\'str\\'>), I(9): \"Negativbuchung\" (<class \\'NoneType\\'>), J(10): \"Mahnstufe\" (<class \\'str\\'>), K(11): \"Zahlweg\" (<class \\'NoneType\\'>), L(12): \"Skontobasis\" (<class \\'float\\'>), M(13): \"Zahlungsfr.basis\" (<class \\'datetime.datetime\\'>), N(14): \"Tage 1\" (<class \\'float\\'>), O(15): \"Skontosatz 1\" (<class \\'float\\'>), P(16): \"Nettofälligkeit\" (<class \\'datetime.datetime\\'>), Q(17): \"Sonderhauptb.Kennz.\" (<class \\'NoneType\\'>), R(18): \"Betrag in Belegwährung\" (<class \\'float\\'>), S(19): \"Währung\" (<class \\'str\\'>), T(20): \"Betrag in Hauswährung\" (<class \\'float\\'>), U(21): \"Währung\" (<class \\'str\\'>), V(22): \"texte vorhanden\" (<class \\'NoneType\\'>)).  Here is a Sheet snapshot: (\\'Zuordnung\\', \\'Buchungsdatum\\', \\'Belegart\\', \\'Belegnummer\\', \\'Belegdatum\\', \\'Position\\', \\'Buchungsschlüssel\\', \\'Mahnstufe\\', \\'Skontobasis\\', \\'Zahlungsfr.basis\\', \\'Tage 1\\', \\'Skontosatz 1\\', \\'Nettofälligkeit\\', \\'Betrag in Belegwährung\\', \\'Währung\\', \\'Betrag in Hauswährung\\', \\'Währung\\')\\n(\\'0090429355\\', datetime.datetime(2025, 5, 5, 0, 0), \\'RV\\', \\'90429355\\', datetime.datetime(2025, 5, 5, 0, 0), \\'1\\', \\'01\\', \\'0\\', 2784.6, datetime.datetime(2025, 5, 5, 0, 0), 14.0, 2.0, datetime.datetime(2025, 6, 4, 0, 0), 2784.6, \\'EUR\\', 2784.6, \\'EUR\\')\\n(\\'0090429618\\', datetime.datetime(2025, 5, 14, 0, 0), \\'RV\\', \\'90429618\\', datetime.datetime(2025, 5, 14, 0, 0), \\'1\\', \\'01\\', \\'0\\', 4556.3, datetime.datetime(2025, 5, 14, 0, 0), 14.0, 2.0, datetime.datetime(2025, 6, 13, 0, 0), 4556.3, \\'EUR\\', 4556.3, \\'EUR\\')\\n(\\'0090429763\\', datetime.datetime(2025, 5, 20, 0, 0), \\'RV\\', \\'90429763\\', datetime.datetime(2025, 5, 20, 0, 0), \\'1\\', \\'01\\', \\'0\\', 2811.3, datetime.datetime(2025, 5, 20, 0, 0), 14.0, 2.0, datetime.datetime(2025, 6, 19, 0, 0), 2811.3, \\'EUR\\', 2811.3, \\'EUR\\')\\n(\\'0090429764\\', datetime.datetime(2025, 5, 20, 0, 0), \\'RV\\', \\'90429764\\', datetime.datetime(2025, 5, 20, 0, 0), \\'1\\', \\'01\\', \\'0\\', 2811.3, datetime.datetime(2025, 5, 20, 0, 0), 14.0, 2.0, datetime.datetime(2025, 6, 19, 0, 0), 2811.3, \\'EUR\\', 2811.3, \\'EUR\\')\\n'"
      ]
     },
     "execution_count": 9,
     "metadata": {},
     "output_type": "execute_result"
    }
   ],
   "source": [
    "SHEET_STATE"
   ]
  },
  {
   "cell_type": "markdown",
   "id": "a1e84614",
   "metadata": {},
   "source": [
    "# Test Runnables"
   ]
  },
  {
   "cell_type": "code",
   "execution_count": 6,
   "id": "11cd889f",
   "metadata": {},
   "outputs": [],
   "source": [
    "from app.graph.chains import GraphRunnables\n",
    "from app.api.endpoints.opos import *\n",
    "\n",
    "runnables = GraphRunnables()\n"
   ]
  },
  {
   "cell_type": "code",
   "execution_count": null,
   "id": "f7d2a96b",
   "metadata": {},
   "outputs": [
    {
     "data": {
      "text/plain": [
       "['Standardize and validate the due date column (P “Nettofälligkeit”) on “Sheet1”: ensure every entry is a datetime object interpreted as German format (DD.MM.YYYY) and flag any parsing errors.',\n",
       " 'Scan rows 2–151 on “Sheet1” and identify cumulative rows by flagging any row where: the “Belegnummer” (D) is empty or non-numeric, or “Belegdatum” (E), “Nettofälligkeit” (P), or “Betrag in Belegwährung” (R) is empty, or any cell in the row contains the terms “debitor”, “debtor”, or “creditor” (case-insensitive). Collect their Excel row numbers.',\n",
       " 'From “Sheet1” rows not flagged as cumulative, select those with “Betrag in Belegwährung” (R) > 0 and collect their Excel row numbers as the invoice rows list.',\n",
       " 'From “Sheet1” rows not flagged as cumulative, select those with “Betrag in Belegwährung” (R) < 0 and collect their Excel row numbers as the credit rows list.',\n",
       " 'For each row in the invoice rows list and each row in the credit rows list, verify that the following columns are non-empty: D “Belegnummer”, R “Betrag in Belegwährung”, A “Zuordnung” (debtor/creditor name), G “Position” (assumed address), and Q “Sonderhauptb.Kennz.” (debtor/creditor number). Record two parallel columns: “Invoice Completeness” and “Credit Completeness” with True/False for each row.',\n",
       " 'Compute Invoice_Sum by summing “Betrag in Belegwährung” (R) over all invoice rows.',\n",
       " 'Compute Credit_Sum by summing “Betrag in Belegwährung” (R) over all credit rows.',\n",
       " 'For each invoice row, calculate maturity = (2025-07-26 – P “Nettofälligkeit”).days; assign each to an ageing bucket (<0, 1–30, 31–60, >60 days). For each bucket, compute the total invoice amount (sum of R) and its percentage of Invoice_Sum.',\n",
       " 'For each credit row, calculate maturity = (2025-07-26 – P “Nettofälligkeit”).days; assign each to the same ageing buckets. For each bucket, compute the total credit amount (sum of R) and its percentage of Credit_Sum.',\n",
       " 'From the credit rows list, identify the 10 rows with the lowest “Betrag in Belegwährung” (R). For each, output its Excel row number, D “Belegnummer”, and R amount.',\n",
       " 'From the invoice rows list, identify the 10 rows with the highest “Betrag in Belegwährung” (R). For each, output its Excel row number, D “Belegnummer”, and R amount.',\n",
       " 'Check for duplicate invoice numbers among the invoice rows by finding repeated values in D “Belegnummer”; list any duplicates. Then check cumulative rows for duplicate values in A “Zuordnung” (debtor names) and Q “Sonderhauptb.Kennz.” (debtor numbers); list any duplicates.',\n",
       " 'Create a new sheet named “Analysis” and, in sequence, lay out the results from subtasks 2–12 as clearly labeled tables or columns: cumulative row numbers, invoice row numbers, credit row numbers, completeness columns, Invoice_Sum, Credit_Sum, ageing tables for invoices and credits, top 10 credit positions, top 10 invoice positions, and duplicate lists.']"
      ]
     },
     "execution_count": 10,
     "metadata": {},
     "output_type": "execute_result"
    }
   ],
   "source": [
    "# Test Decomposer \n",
    "decomp_results = runnables.decomposer_chain.invoke({\"instruction\": INSTRUCTION_PROMPT,\n",
    "                                                    \"sheet_state\": SHEET_STATE})\n",
    "\n",
    "subtasks = decomp_results.subtasks\n",
    "subtasks"
   ]
  },
  {
   "cell_type": "code",
   "execution_count": null,
   "id": "4577f182",
   "metadata": {},
   "outputs": [
    {
     "data": {
      "text/plain": [
       "'from datetime import datetime\\n\\n# Access the main sheet\\nsheet1 = workbook[\\'Sheet1\\']\\n\\n# Subtask 1: Standardize and validate due dates in column P (16)\\ndue_dates = {}              # row -> datetime\\ndue_date_errors = []        # rows with parsing errors\\nfor row in range(2, sheet1.max_row + 1):\\n    cell = sheet1.cell(row, 16)\\n    val = cell.value\\n    if isinstance(val, datetime):\\n        due_dates[row] = val\\n    elif isinstance(val, str):\\n        try:\\n            dt = datetime.strptime(val, \\'%d.%m.%Y\\')\\n            cell.value = dt\\n            due_dates[row] = dt\\n        except Exception:\\n            due_date_errors.append(row)\\n    else:\\n        due_date_errors.append(row)\\n\\n# Subtask 2: Identify cumulative rows (rows 2–151)\\nterms = (\\'debitor\\', \\'debtor\\', \\'creditor\\')\\ncumulative_rows = []\\nfor row in range(2, 152):\\n    d = sheet1.cell(row, 4).value\\n    e = sheet1.cell(row, 5).value\\n    p = sheet1.cell(row, 16).value\\n    r = sheet1.cell(row, 18).value\\n    # Check D empty or non-numeric\\n    is_d_bad = (d is None) or (not isinstance(d, (int, float)) and not (isinstance(d, str) and d.isdigit()))\\n    # Check any required empty\\n    is_empty_required = (e is None or p is None or r is None)\\n    # Check terms anywhere in row\\n    row_contains_term = False\\n    for cell in sheet1[row]:\\n        v = cell.value\\n        if isinstance(v, str) and any(term in v.lower() for term in terms):\\n            row_contains_term = True\\n            break\\n    if is_d_bad or is_empty_required or row_contains_term:\\n        cumulative_rows.append(row)\\n\\n# Subtask 3 & 4: Invoice and credit rows (excluding cumulatives)\\ninvoice_rows = []  # R > 0\\ncredit_rows = []   # R < 0\\nfor row in range(2, 152):\\n    if row in cumulative_rows:\\n        continue\\n    amt = sheet1.cell(row, 18).value\\n    if isinstance(amt, (int, float)):\\n        if amt > 0:\\n            invoice_rows.append(row)\\n        elif amt < 0:\\n            credit_rows.append(row)\\n\\n# Subtask 5: Completeness checks for invoices and credits\\ninvoice_completeness = {}  # row -> bool\\ncredit_completeness = {}   # row -> bool\\ncheck_cols = {\\'Belegnummer\\':4, \\'Betrag\\':18, \\'Zuordnung\\':1, \\'Position\\':7, \\'Kennz\\':17}\\nfor row in invoice_rows:\\n    invoice_completeness[row] = all(\\n        sheet1.cell(row, col).value is not None\\n        for col in check_cols.values()\\n    )\\nfor row in credit_rows:\\n    credit_completeness[row] = all(\\n        sheet1.cell(row, col).value is not None\\n        for col in check_cols.values()\\n    )\\n\\n# Subtask 6 & 7: Sum of invoice and credit amounts\\nInvoice_Sum = sum(sheet1.cell(r, 18).value for r in invoice_rows)\\nCredit_Sum  = sum(sheet1.cell(r, 18).value for r in credit_rows)\\n\\n# Subtask 8 & 9: Ageing buckets\\ntarget_date = datetime(2025, 7, 26)\\nbuckets = [\\'<0\\', \\'1-30\\', \\'31-60\\', \\'>60\\']\\ndef bucket_for(days):\\n    if days < 0:\\n        return \\'<0\\'\\n    if 1 <= days <= 30:\\n        return \\'1-30\\'\\n    if 31 <= days <= 60:\\n        return \\'31-60\\'\\n    return \\'>60\\'\\n\\ninvoice_ageing = {b: {\\'total\\': 0, \\'pct\\': 0} for b in buckets}\\nfor row in invoice_rows:\\n    due = sheet1.cell(row, 16).value\\n    days = (target_date - due).days\\n    b = bucket_for(days)\\n    invoice_ageing[b][\\'total\\'] += sheet1.cell(row, 18).value\\nif Invoice_Sum:\\n    for b in buckets:\\n        invoice_ageing[b][\\'pct\\'] = invoice_ageing[b][\\'total\\'] / Invoice_Sum * 100\\n\\ncredit_ageing = {b: {\\'total\\': 0, \\'pct\\': 0} for b in buckets}\\nfor row in credit_rows:\\n    due = sheet1.cell(row, 16).value\\n    days = (target_date - due).days\\n    b = bucket_for(days)\\n    credit_ageing[b][\\'total\\'] += sheet1.cell(row, 18).value\\nif Credit_Sum:\\n    for b in buckets:\\n        credit_ageing[b][\\'pct\\'] = credit_ageing[b][\\'total\\'] / Credit_Sum * 100\\n\\n# Subtask 10 & 11: Top 10 credit (lowest) and invoice (highest)\\ncredit_sorted = sorted(credit_rows, key=lambda r: sheet1.cell(r, 18).value)[:10]\\ncredit_top10 = [\\n    (r,\\n     sheet1.cell(r, 4).value,\\n     sheet1.cell(r, 18).value)\\n    for r in credit_sorted\\n]\\n\\ninvoice_sorted = sorted(invoice_rows, key=lambda r: sheet1.cell(r, 18).value, reverse=True)[:10]\\ninvoice_top10 = [\\n    (r,\\n     sheet1.cell(r, 4).value,\\n     sheet1.cell(r, 18).value)\\n    for r in invoice_sorted\\n]\\n\\n# Subtask 12: Duplicates\\nfrom collections import Counter\\n# Invoice number duplicates\\ninv_nums = [sheet1.cell(r, 4).value for r in invoice_rows]\\ndup_invoice_nums = [num for num, cnt in Counter(inv_nums).items() if cnt > 1]\\n# Cumulative duplicates in A and Q\\nzuord_vals = [sheet1.cell(r, 1).value for r in cumulative_rows]\\nkennz_vals = [sheet1.cell(r, 17).value for r in cumulative_rows]\\ndup_zuordnung = [v for v, cnt in Counter(zuord_vals).items() if cnt > 1]\\ndup_kennz = [v for v, cnt in Counter(kennz_vals).items() if cnt > 1]\\n\\n# Subtask 13: Write to \"Analysis\" sheet\\nanalysis = workbook.create_sheet(title=\\'Analysis\\')\\n\\n# Helper to write a list in a column\\ndef write_column(start_col, header, data, sheet, start_row=1):\\n    sheet.cell(row=start_row, column=start_col).value = header\\n    for i, v in enumerate(data, start=start_row+1):\\n        sheet.cell(row=i, column=start_col).value = v\\n\\n# 2. Cumulative rows\\nwrite_column(1, \\'Cumulative Rows\\', cumulative_rows, analysis)\\n# 3 & 5 (invoice rows + completeness) at cols 3-4\\nwrite_column(3, \\'Invoice Rows\\', invoice_rows, analysis)\\nwrite_column(4, \\'Invoice Completeness\\', [invoice_completeness[r] for r in invoice_rows], analysis)\\n# 4 & 5 (credit rows + completeness) at cols 6-7\\nwrite_column(6, \\'Credit Rows\\', credit_rows, analysis)\\nwrite_column(7, \\'Credit Completeness\\', [credit_completeness[r] for r in credit_rows], analysis)\\n# 6 & 7: sums at cols 9-10\\nanalysis.cell(row=1, column=9).value = \\'Invoice_Sum\\'\\nanalysis.cell(row=2, column=9).value = Invoice_Sum\\nanalysis.cell(row=1, column=10).value = \\'Credit_Sum\\'\\nanalysis.cell(row=2, column=10).value = Credit_Sum\\n# 8: invoice ageing at cols 12-14\\nanalysis.cell(row=1, column=12).value = \\'Invoice Bucket\\'\\nanalysis.cell(row=1, column=13).value = \\'Invoice Total\\'\\nanalysis.cell(row=1, column=14).value = \\'Invoice %\\'\\nfor i, b in enumerate(buckets, start=2):\\n    analysis.cell(row=i, column=12).value = b\\n    analysis.cell(row=i, column=13).value = invoice_ageing[b][\\'total\\']\\n    analysis.cell(row=i, column=14).value = invoice_ageing[b][\\'pct\\']\\n# 9: credit ageing at cols 16-18\\nanalysis.cell(row=1, column=16).value = \\'Credit Bucket\\'\\nanalysis.cell(row=1, column=17).value = \\'Credit Total\\'\\nanalysis.cell(row=1, column=18).value = \\'Credit %\\'\\nfor i, b in enumerate(buckets, start=2):\\n    analysis.cell(row=i, column=16).value = b\\n    analysis.cell(row=i, column=17).value = credit_ageing[b][\\'total\\']\\n    analysis.cell(row=i, column=18).value = credit_ageing[b][\\'pct\\']\\n# 10: top 10 credits at cols 20-22\\nanalysis.cell(row=1, column=20).value = \\'Top Credit Row\\'\\nanalysis.cell(row=1, column=21).value = \\'Belegnummer\\'\\nanalysis.cell(row=1, column=22).value = \\'Amount\\'\\nfor i, (r, num, amt) in enumerate(credit_top10, start=2):\\n    analysis.cell(row=i, column=20).value = r\\n    analysis.cell(row=i, column=21).value = num\\n    analysis.cell(row=i, column=22).value = amt\\n# 11: top 10 invoices at cols 24-26\\nanalysis.cell(row=1, column=24).value = \\'Top Invoice Row\\'\\nanalysis.cell(row=1, column=25).value = \\'Belegnummer\\'\\nanalysis.cell(row=1, column=26).value = \\'Amount\\'\\nfor i, (r, num, amt) in enumerate(invoice_top10, start=2):\\n    analysis.cell(row=i, column=24).value = r\\n    analysis.cell(row=i, column=25).value = num\\n    analysis.cell(row=i, column=26).value = amt\\n# 12: duplicates at cols 28-33\\n# Invoice number dup\\nwrite_column(28, \\'Duplicate Invoice Numbers\\', dup_invoice_nums, analysis)\\n# Cumulative Zuordnung dup at cols 30\\nwrite_column(30, \\'Dup Zuordnung (Cumul)\\', dup_zuordnung, analysis)\\n# Cumulative Kennz dup at cols 32\\nwrite_column(32, \\'Dup Kennz (Cumul)\\', dup_kennz, analysis)\\n'"
      ]
     },
     "execution_count": 14,
     "metadata": {},
     "output_type": "execute_result"
    }
   ],
   "source": [
    "# Test actor \n",
    "actor_results = runnables.actor_chain.invoke({\"subtasks\": subtasks,\n",
    "                                              \"failed_code\": \"\",\n",
    "                                              \"errors_or_issues\": \"\"\n",
    "                                              })\n",
    "actor_results.tool_calls[0]['args']['code_snippet']"
   ]
  },
  {
   "cell_type": "code",
   "execution_count": 16,
   "id": "b0eca272",
   "metadata": {},
   "outputs": [],
   "source": [
    "# Run the code in the sandbox\n",
    "prev_state = SHEET_STATE\n",
    "box.step(actor_results.tool_calls[0]['args']['code_snippet'])\n",
    "if len(box.stderr) == 0 :\n",
    "    print(\"No errors in execution\")\n",
    "else:\n",
    "    print(\"Errors in execution:\")\n",
    "    print(box.stderr)\n",
    "current_state = box.get_sheet_state()\n",
    "code_snippet = actor_results.tool_calls[0]['args']['code_snippet']"
   ]
  },
  {
   "cell_type": "code",
   "execution_count": 18,
   "id": "28a566e1",
   "metadata": {},
   "outputs": [
    {
     "data": {
      "text/plain": [
       "ReflectorVerdict(is_solved=True, issues=None)"
      ]
     },
     "execution_count": 18,
     "metadata": {},
     "output_type": "execute_result"
    }
   ],
   "source": [
    "# Test Reflector\n",
    "from app.graph.chains import GraphRunnables\n",
    "\n",
    "\n",
    "runnables = GraphRunnables()\n",
    "\n",
    " \n",
    "reflector_results = runnables.reflector_chain.invoke({\"code_snippet\": code_snippet,\n",
    "                                                            \"previous_sheet_state\": prev_state,\n",
    "                                                            \"current_sheet_state\":current_state,\n",
    "                                                            \"subtasks\": subtasks})\n",
    "\n",
    "reflector_results"
   ]
  },
  {
   "cell_type": "markdown",
   "id": "6b2abc34",
   "metadata": {},
   "source": [
    "## Visualize Graph"
   ]
  },
  {
   "cell_type": "code",
   "execution_count": 12,
   "id": "011f2eb3",
   "metadata": {},
   "outputs": [
    {
     "data": {
      "image/png": "[encoded data removed]",
      "text/plain": [
       "<IPython.core.display.Image object>"
      ]
     },
     "metadata": {},
     "output_type": "display_data"
    }
   ],
   "source": [
    "# Visualize Graph\n",
    "from IPython.display import Image, display\n",
    "from app.graph.graph import SheetAgentGraph\n",
    "\n",
    "Agent = SheetAgentGraph(None, None)\n",
    "graph = Agent.build_graph()\n",
    "diagram = graph.get_graph().draw_mermaid_png()\n",
    "\n",
    "# Save and Display Graph\n",
    "graph.get_graph().draw_mermaid_png(output_file_path=\"sheet_agent_workflow.png\")\n",
    "display(Image(diagram))\n"
   ]
  },
  {
   "cell_type": "code",
   "execution_count": 3,
   "id": "ecea0414",
   "metadata": {},
   "outputs": [],
   "source": [
    "import openpyxl\n",
    "workbook = openpyxl.load_workbook(\"../Opos-test.xlsx\")"
   ]
  },
  {
   "cell_type": "code",
   "execution_count": 4,
   "id": "8f47d3bc",
   "metadata": {},
   "outputs": [],
   "source": [
    "from datetime import datetime\n",
    "\n",
    "# Access Sheet1\n",
    "sheet1 = workbook['Sheet1']\n",
    "\n",
    "# Map headers to column indices\n",
    "header_row = sheet1[1]\n",
    "header_to_col = {cell.value: cell.col_idx for cell in header_row}\n",
    "\n",
    "# Identify key columns\n",
    "col_belegnum = header_to_col.get('Belegnummer')\n",
    "col_belegdatum = header_to_col.get('Belegdatum')\n",
    "col_nettofaellig = header_to_col.get('Nettofälligkeit')\n",
    "col_amount = header_to_col.get('Betrag in Belegwährung')\n",
    "# Find debtor/creditor name, address, number columns by header keywords\n",
    "name_cols = [idx for hdr, idx in header_to_col.items() if hdr and 'name' in hdr.lower()]\n",
    "addr_cols = [idx for hdr, idx in header_to_col.items() if hdr and 'adresse' in hdr.lower()]\n",
    "num_cols = [idx for hdr, idx in header_to_col.items() if hdr and 'nummer' in hdr.lower() and hdr != 'Belegnummer']\n",
    "\n",
    "# Step 1: Parse German format dates if needed\n",
    "for row in sheet1.iter_rows(min_row=2, max_row=151):\n",
    "    # Check and parse Belegdatum\n",
    "    cell_bd = row[col_belegdatum - 1]\n",
    "    if isinstance(cell_bd.value, str):\n",
    "        try:\n",
    "            cell_bd.value = datetime.strptime(cell_bd.value.strip(), '%d.%m.%Y')\n",
    "        except:\n",
    "            pass\n",
    "    # Check and parse Nettofälligkeit\n",
    "    cell_nf = row[col_nettofaellig - 1]\n",
    "    if isinstance(cell_nf.value, str):\n",
    "        try:\n",
    "            cell_nf.value = datetime.strptime(cell_nf.value.strip(), '%d.%m.%Y')\n",
    "        except:\n",
    "            pass\n",
    "\n",
    "# Prepare classification and collections\n",
    "daily_target = datetime(2025, 7, 26)\n",
    "classifications = {}\n",
    "invoice_rows = []\n",
    "credit_rows = []\n",
    "cumulative_rows = []\n",
    "invoice_completeness = {}\n",
    "credit_completeness = {}\n",
    "invoice_maturity = {}\n",
    "credit_maturity = {}\n",
    "\n",
    "# Classify rows and compute basics\n",
    "for row in sheet1.iter_rows(min_row=2, max_row=151):\n",
    "    rnum = row[0].row\n",
    "    beleg = row[col_belegnum - 1].value\n",
    "    dat = row[col_belegdatum - 1].value\n",
    "    nf = row[col_nettofaellig - 1].value\n",
    "    amt = row[col_amount - 1].value\n",
    "    # Check missing or keywords\n",
    "    missing = any(val is None or (isinstance(val, str) and not val.strip()) for val in [beleg, dat, nf, amt])\n",
    "    lowered = ' '.join(str(val).lower() for val in [beleg, dat, nf])\n",
    "    keyword = any(k in lowered for k in ['debitor', 'debtor', 'creditor'])\n",
    "    if missing or keyword:\n",
    "        cls = 'cumulative'\n",
    "        cumulative_rows.append(rnum)\n",
    "    else:\n",
    "        try:\n",
    "            amt_val = float(amt)\n",
    "        except:\n",
    "            amt_val = 0\n",
    "        if amt_val >= 0:\n",
    "            cls = 'invoice'\n",
    "            invoice_rows.append(rnum)\n",
    "        else:\n",
    "            cls = 'credit'\n",
    "            credit_rows.append(rnum)\n",
    "    classifications[rnum] = cls\n",
    "\n",
    "# Completeness checks\n",
    "def check_completeness(rnum):\n",
    "    row = sheet1[rnum]\n",
    "    vals = []\n",
    "    # mandatory fields\n",
    "    vals.append(row[col_belegnum].value)\n",
    "    vals.append(row[col_amount].value)\n",
    "    for c in name_cols + addr_cols + num_cols:\n",
    "        vals.append(row[c - 1].value)\n",
    "    return all(v is not None and (not isinstance(v, str) or v.strip()) for v in vals)\n",
    "\n",
    "for r in invoice_rows:\n",
    "    invoice_completeness[r] = check_completeness(r)\n",
    "for r in credit_rows:\n",
    "    credit_completeness[r] = check_completeness(r)\n",
    "\n",
    "# Sums\n",
    "Invoice_Sum = sum(float(sheet1[r][col_amount - 1].value) for r in invoice_rows)\n",
    "Credit_Sum = sum(float(sheet1[r][col_amount - 1].value) for r in credit_rows)\n",
    "\n",
    "# Maturities\n",
    "for r in invoice_rows:\n",
    "    nf = sheet1[r][col_nettofaellig - 1].value\n",
    "    invoice_maturity[r] = (daily_target - nf).days\n",
    "for r in credit_rows:\n",
    "    nf = sheet1[r][col_nettofaellig - 1].value\n",
    "    credit_maturity[r] = (daily_target - nf).days\n",
    "\n",
    "# Buckets definition\n",
    "def bucket_key(days):\n",
    "    if days < 0:\n",
    "        return '<0'\n",
    "    elif days <= 30:\n",
    "        return '1-30'\n",
    "    elif days <= 60:\n",
    "        return '31-60'\n",
    "    else:\n",
    "        return '>60'\n",
    "\n",
    "# Invoice ageing\n",
    "invoice_buckets = {b: {'total': 0} for b in ['<0', '1-30', '31-60', '>60']}\n",
    "for r, days in invoice_maturity.items():\n",
    "    b = bucket_key(days)\n",
    "    invoice_buckets[b]['total'] += float(sheet1[r][col_amount - 1].value)\n",
    "for b, vals in invoice_buckets.items():\n",
    "    vals['pct'] = (vals['total'] / Invoice_Sum * 100) if Invoice_Sum else 0\n",
    "\n",
    "# Credit ageing\n",
    "credit_buckets = {b: {'total': 0} for b in ['<0', '1-30', '31-60', '>60']}\n",
    "for r, days in credit_maturity.items():\n",
    "    b = bucket_key(days)\n",
    "    credit_buckets[b]['total'] += float(sheet1[r][col_amount - 1].value)\n",
    "for b, vals in credit_buckets.items():\n",
    "    vals['pct'] = (vals['total'] / Credit_Sum * 100) if Credit_Sum else 0\n",
    "\n",
    "# Top 10 credits (most negative)\n",
    "credit_sorted = sorted(credit_rows, key=lambda r: float(sheet1[r][col_amount - 1].value))\n",
    "top_10_credits = [(r,\n",
    "                  sheet1[r][col_belegnum - 1].value,\n",
    "                  float(sheet1[r][col_amount - 1].value)) for r in credit_sorted[:10]]\n",
    "# Top 10 invoices (highest)\n",
    "invoice_sorted = sorted(invoice_rows, key=lambda r: float(sheet1[r][col_amount - 1].value), reverse=True)\n",
    "top_10_invoices = [(r,\n",
    "                   sheet1[r][col_belegnum - 1].value,\n",
    "                   float(sheet1[r][col_amount - 1].value)) for r in invoice_sorted[:10]]\n",
    "\n",
    "# Duplicate invoice numbers\n",
    "i_num_counts = {}\n",
    "for r in invoice_rows:\n",
    "    num = sheet1[r][col_belegnum - 1].value\n",
    "    i_num_counts[num] = i_num_counts.get(num, 0) + 1\n",
    "duplicate_invoice_numbers = [num for num, cnt in i_num_counts.items() if cnt > 1]\n",
    "\n",
    "# Duplicate debtor identifiers or names in cumulative\n",
    "deb_ids = []\n",
    "deb_names = []\n",
    "for r in cumulative_rows:\n",
    "    for c in num_cols:\n",
    "        deb_ids.append(sheet1[r][c - 1].value)\n",
    "    for c in name_cols:\n",
    "        deb_names.append(sheet1[r][c - 1].value)\n",
    "\n",
    "dup_deb_ids = [v for v, cnt in __import__('collections').Counter(deb_ids).items() if cnt > 1]\n",
    "dup_deb_names = [v for v, cnt in __import__('collections').Counter(deb_names).items() if cnt > 1]\n",
    "\n",
    "# Create Analysis sheet\n",
    "if 'Analysis' in workbook.sheetnames:\n",
    "    del workbook['Analysis']\n",
    "analysis = workbook.create_sheet('Analysis')\n",
    "col = 1\n",
    "# 1. Cumulative Row Numbers\n",
    "analysis.cell(1, col).value = 'Cumulative Row Numbers'\n",
    "for idx, val in enumerate(cumulative_rows, start=2):\n",
    "    analysis.cell(idx, col).value = val\n",
    "col += 2\n",
    "# 2. Invoice Row Numbers\n",
    "analysis.cell(1, col).value = 'Invoice Row Numbers'\n",
    "for idx, val in enumerate(invoice_rows, start=2):\n",
    "    analysis.cell(idx, col).value = val\n",
    "col += 2\n",
    "# 3. Credit Row Numbers\n",
    "analysis.cell(1, col).value = 'Credit Row Numbers'\n",
    "for idx, val in enumerate(credit_rows, start=2):\n",
    "    analysis.cell(idx, col).value = val\n",
    "col += 2\n",
    "# 4. Completeness table\n",
    "analysis.cell(1, col).value = 'Invoice_Completeness'\n",
    "analysis.cell(1, col+1).value = 'Credit_Completeness'\n",
    "max_rows = max(len(invoice_rows), len(credit_rows))\n",
    "for i in range(max_rows):\n",
    "    if i < len(invoice_rows):\n",
    "        r = invoice_rows[i]\n",
    "        analysis.cell(2+i, col).value = invoice_completeness[r]\n",
    "    if i < len(credit_rows):\n",
    "        r = credit_rows[i]\n",
    "        analysis.cell(2+i, col+1).value = credit_completeness[r]\n",
    "col += 3\n",
    "# 5. Invoice_Sum and Credit_Sum\n",
    "analysis.cell(1, col).value = 'Invoice_Sum'\n",
    "analysis.cell(2, col).value = Invoice_Sum\n",
    "col += 2\n",
    "analysis.cell(1, col).value = 'Credit_Sum'\n",
    "analysis.cell(2, col).value = Credit_Sum\n",
    "col += 2\n",
    "# 6. Invoice ageing report\n",
    "analysis.cell(1, col).value = 'Bucket'\n",
    "analysis.cell(1, col+1).value = 'Total'\n",
    "analysis.cell(1, col+2).value = 'Percentage'\n",
    "for i, b in enumerate(invoice_buckets.keys(), start=2):\n",
    "    analysis.cell(i, col).value = b\n",
    "    analysis.cell(i, col+1).value = invoice_buckets[b]['total']\n",
    "    analysis.cell(i, col+2).value = invoice_buckets[b]['pct']\n",
    "col += 4\n",
    "# 7. Credit ageing report\n",
    "analysis.cell(1, col).value = 'Bucket'\n",
    "analysis.cell(1, col+1).value = 'Total'\n",
    "analysis.cell(1, col+2).value = 'Percentage'\n",
    "for i, b in enumerate(credit_buckets.keys(), start=2):\n",
    "    analysis.cell(i, col).value = b\n",
    "    analysis.cell(i, col+1).value = credit_buckets[b]['total']\n",
    "    analysis.cell(i, col+2).value = credit_buckets[b]['pct']\n",
    "col += 4\n",
    "# 8. Top 10 credit positions\n",
    "analysis.cell(1, col).value = 'Row'\n",
    "analysis.cell(1, col+1).value = 'Belegnummer'\n",
    "analysis.cell(1, col+2).value = 'Amount'\n",
    "for i, (r, num, amt) in enumerate(top_10_credits, start=2):\n",
    "    analysis.cell(i, col).value = r\n",
    "    analysis.cell(i, col+1).value = num\n",
    "    analysis.cell(i, col+2).value = amt\n",
    "col += 4\n",
    "# 9. Top 10 invoice positions\n",
    "analysis.cell(1, col).value = 'Row'\n",
    "analysis.cell(1, col+1).value = 'Belegnummer'\n",
    "analysis.cell(1, col+2).value = 'Amount'\n",
    "for i, (r, num, amt) in enumerate(top_10_invoices, start=2):\n",
    "    analysis.cell(i, col).value = r\n",
    "    analysis.cell(i, col+1).value = num\n",
    "    analysis.cell(i, col+2).value = amt\n",
    "col += 4\n",
    "# 10. Duplicate invoice numbers\n",
    "analysis.cell(1, col).value = 'Duplicate Invoice Numbers'\n",
    "for i, val in enumerate(duplicate_invoice_numbers, start=2):\n",
    "    analysis.cell(i, col).value = val\n",
    "col += 2\n",
    "# 11. Duplicate debtor identifiers or names\n",
    "analysis.cell(1, col).value = 'Duplicate Debtor Identifiers or Names'\n",
    "for i, val in enumerate(dup_deb_ids + dup_deb_names, start=2):\n",
    "    analysis.cell(i, col).value = val\n"
   ]
  },
  {
   "cell_type": "code",
   "execution_count": 5,
   "id": "e056bf54",
   "metadata": {},
   "outputs": [],
   "source": [
    "workbook.save(\"../69Opos-test69.xlsx\")"
   ]
  },
  {
   "cell_type": "code",
   "execution_count": null,
   "id": "ddb7f5ec",
   "metadata": {},
   "outputs": [],
   "source": []
  }
 ],
 "metadata": {
  "kernelspec": {
   "display_name": "Python 3",
   "language": "python",
   "name": "python3"
  },
  "language_info": {
   "codemirror_mode": {
    "name": "ipython",
    "version": 3
   },
   "file_extension": ".py",
   "mimetype": "text/x-python",
   "name": "python",
   "nbconvert_exporter": "python",
   "pygments_lexer": "ipython3",
   "version": "3.12.11"
  }
 },
 "nbformat": 4,
 "nbformat_minor": 5
}
